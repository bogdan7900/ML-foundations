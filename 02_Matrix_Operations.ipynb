{
  "nbformat": 4,
  "nbformat_minor": 0,
  "metadata": {
    "colab": {
      "name": "02 - Matrix Operations.ipynb",
      "provenance": [],
      "collapsed_sections": [],
      "include_colab_link": true
    },
    "kernelspec": {
      "name": "python3",
      "display_name": "Python 3"
    },
    "language_info": {
      "name": "python"
    }
  },
  "cells": [
    {
      "cell_type": "markdown",
      "metadata": {
        "id": "view-in-github",
        "colab_type": "text"
      },
      "source": [
        "<a href=\"https://colab.research.google.com/github/bogdan7900/ML-foundations/blob/master/02_Matrix_Operations.ipynb\" target=\"_parent\"><img src=\"https://colab.research.google.com/assets/colab-badge.svg\" alt=\"Open In Colab\"/></a>"
      ]
    },
    {
      "cell_type": "markdown",
      "metadata": {
        "id": "cSFYPBoNiDI5"
      },
      "source": [
        "Tensors\n",
        "-------"
      ]
    },
    {
      "cell_type": "markdown",
      "metadata": {
        "id": "m4DMdFrQj__X"
      },
      "source": [
        "A **tensor** is a container which can house data in N dimensions. The number of dimensions is called the **rank** of the tensor in question.\n",
        "* Vector is an array with a single dimension.\n",
        "* Matrix is an array with two dimensions.\n",
        "* Tensor is an array with three or more dimensions.\n",
        "\n",
        "Resouces:\n",
        "1.   https://www.kdnuggets.com/2018/05/wtf-tensor.html\n",
        "2.   https://hadrienj.github.io/posts/Deep-Learning-Book-Series-2.1-Scalars-Vectors-Matrices-and-Tensors/\n",
        "3. https://news.mit.edu/2013/explained-matrices-1206\n",
        "4. [Scalars, Vectors, Matrices and Tensors](https://github.com/bogdan7900/deepLearningBook-Notes/blob/master/2.1%20Scalars,%20Vectors,%20Matrices%20and%20Tensors/2.1%20Scalars%20Vectors%20Matrices%20and%20Tensors.ipynb)\n",
        "\n"
      ]
    },
    {
      "cell_type": "markdown",
      "metadata": {
        "id": "7hrftVuMoWhC"
      },
      "source": [
        "Scalars (Rank 0 Tensors)\n",
        "------------------------"
      ]
    },
    {
      "cell_type": "code",
      "metadata": {
        "id": "JV2T43xvodUb"
      },
      "source": [
        "x = 21"
      ],
      "execution_count": null,
      "outputs": []
    },
    {
      "cell_type": "markdown",
      "metadata": {
        "id": "HbFuozVpqqJT"
      },
      "source": [
        "### Scalars in PyTorch\n",
        "\n",
        "* PyTorch and TensorFlow are the two most popular *automatic differentiation* libraries in Python\n",
        "* PyTorch tensors are designed to be pythonic, i.e., to feel and behave like NumPy arrays\n",
        "* The advantage of PyTorch tensors relative to NumPy arrays is that they easily be used for operations on GPU (see [here](https://pytorch.org/tutorials/beginner/examples_tensor/two_layer_net_tensor.html) for example) \n",
        "* Documentation on PyTorch tensors, including available data types, is [here](https://pytorch.org/docs/stable/tensors.html)"
      ]
    },
    {
      "cell_type": "code",
      "metadata": {
        "id": "dTU2ihYErebi"
      },
      "source": [
        "import torch"
      ],
      "execution_count": null,
      "outputs": []
    },
    {
      "cell_type": "code",
      "metadata": {
        "id": "LBJHRTSprUVs"
      },
      "source": [
        "pt = 25\n",
        "x_pt = torch.tensor(pt)"
      ],
      "execution_count": null,
      "outputs": []
    },
    {
      "cell_type": "code",
      "metadata": {
        "id": "36Ssmt-XrmUk",
        "colab": {
          "base_uri": "https://localhost:8080/"
        },
        "outputId": "c0646238-e95e-4402-c145-8b942c9bbd6f"
      },
      "source": [
        "x_pt"
      ],
      "execution_count": null,
      "outputs": [
        {
          "output_type": "execute_result",
          "data": {
            "text/plain": [
              "tensor(25)"
            ]
          },
          "metadata": {},
          "execution_count": 4
        }
      ]
    },
    {
      "cell_type": "code",
      "metadata": {
        "id": "9X-6DIOsruF-",
        "colab": {
          "base_uri": "https://localhost:8080/"
        },
        "outputId": "55fe6e08-7081-4b9e-e082-e4d49a2072c9"
      },
      "source": [
        "x_pt.shape"
      ],
      "execution_count": null,
      "outputs": [
        {
          "output_type": "execute_result",
          "data": {
            "text/plain": [
              "torch.Size([])"
            ]
          },
          "metadata": {},
          "execution_count": 5
        }
      ]
    },
    {
      "cell_type": "markdown",
      "metadata": {
        "id": "VeIjbg_Cs_A_"
      },
      "source": [
        "Vectors (Rank 1 Tensors)\n",
        "------------------------\n",
        "* Vectors are one-dimensional arrays of scalars\n",
        "* Vectors have length which is the number of elements within the array\n",
        "* Vectors are points in the space of a Cartesian system\n",
        "* Vectors represent a magnitude and direction from origin\n",
        "\n",
        "Resources:\n",
        "1. [What are Vectors](https://www.youtube.com/watch?v=fNk_zzaMoSs&list=PLZHQObOWTQDPD3MizzM2xVFitgF8hE_ab&index=1&ab_channel=3Blue1Brown)"
      ]
    },
    {
      "cell_type": "code",
      "metadata": {
        "id": "NxCkX_8LuYM9"
      },
      "source": [
        "import numpy as np"
      ],
      "execution_count": null,
      "outputs": []
    },
    {
      "cell_type": "code",
      "metadata": {
        "id": "9FTMeIhRs9iE"
      },
      "source": [
        "x = np.array([2, 28, 1979])"
      ],
      "execution_count": null,
      "outputs": []
    },
    {
      "cell_type": "code",
      "metadata": {
        "id": "yYSi-fn2ulzl",
        "colab": {
          "base_uri": "https://localhost:8080/"
        },
        "outputId": "b9a20b81-98ff-4533-d72a-9700b0524983"
      },
      "source": [
        "len(x)"
      ],
      "execution_count": null,
      "outputs": [
        {
          "output_type": "execute_result",
          "data": {
            "text/plain": [
              "3"
            ]
          },
          "metadata": {},
          "execution_count": 8
        }
      ]
    },
    {
      "cell_type": "code",
      "metadata": {
        "id": "fVQqX4KOuguk",
        "colab": {
          "base_uri": "https://localhost:8080/"
        },
        "outputId": "aaf467b5-92b2-4459-f8d2-bbbb815a3fe3"
      },
      "source": [
        "x.shape"
      ],
      "execution_count": null,
      "outputs": [
        {
          "output_type": "execute_result",
          "data": {
            "text/plain": [
              "(3,)"
            ]
          },
          "metadata": {},
          "execution_count": 9
        }
      ]
    },
    {
      "cell_type": "code",
      "metadata": {
        "id": "3jfmZ-qou7cE",
        "colab": {
          "base_uri": "https://localhost:8080/"
        },
        "outputId": "379831eb-c136-446b-c62e-03e37b13c3fc"
      },
      "source": [
        "type(x)"
      ],
      "execution_count": null,
      "outputs": [
        {
          "output_type": "execute_result",
          "data": {
            "text/plain": [
              "numpy.ndarray"
            ]
          },
          "metadata": {},
          "execution_count": 10
        }
      ]
    },
    {
      "cell_type": "code",
      "metadata": {
        "id": "rAkI2JsfvDL0",
        "colab": {
          "base_uri": "https://localhost:8080/"
        },
        "outputId": "3fd03ff4-d971-4132-be55-5ca032b0b014"
      },
      "source": [
        "# Access individual elements of the vector (array)\n",
        "x[0]"
      ],
      "execution_count": null,
      "outputs": [
        {
          "output_type": "execute_result",
          "data": {
            "text/plain": [
              "2"
            ]
          },
          "metadata": {},
          "execution_count": 11
        }
      ]
    },
    {
      "cell_type": "code",
      "metadata": {
        "id": "ICFEjv6uvXoL",
        "colab": {
          "base_uri": "https://localhost:8080/"
        },
        "outputId": "dba92fd1-2b3d-4b20-b572-f94b3ce1e23c"
      },
      "source": [
        "# Find the type of elements of a vector\n",
        "type(x[1])"
      ],
      "execution_count": null,
      "outputs": [
        {
          "output_type": "execute_result",
          "data": {
            "text/plain": [
              "numpy.int64"
            ]
          },
          "metadata": {},
          "execution_count": 12
        }
      ]
    },
    {
      "cell_type": "code",
      "metadata": {
        "id": "YtYcU4rEvlTu"
      },
      "source": [
        "# Transpose the vector\n",
        "x_t = x.T"
      ],
      "execution_count": null,
      "outputs": []
    },
    {
      "cell_type": "markdown",
      "metadata": {
        "id": "fjZRwKbM7x58"
      },
      "source": [
        "### Vectors in PyTorch\n"
      ]
    },
    {
      "cell_type": "code",
      "metadata": {
        "id": "YbIRptBm70VA"
      },
      "source": [
        "py = [12, 11, 2009]"
      ],
      "execution_count": null,
      "outputs": []
    },
    {
      "cell_type": "code",
      "metadata": {
        "id": "8KUEZKxZ7-3H"
      },
      "source": [
        "x_py = torch.tensor(py)"
      ],
      "execution_count": null,
      "outputs": []
    },
    {
      "cell_type": "code",
      "metadata": {
        "id": "VW2hMT1L8EFX",
        "colab": {
          "base_uri": "https://localhost:8080/"
        },
        "outputId": "ec3797cf-3883-42e1-ed0a-ddbe78fccd81"
      },
      "source": [
        "x_py"
      ],
      "execution_count": null,
      "outputs": [
        {
          "output_type": "execute_result",
          "data": {
            "text/plain": [
              "tensor([  12,   11, 2009])"
            ]
          },
          "metadata": {},
          "execution_count": 17
        }
      ]
    },
    {
      "cell_type": "code",
      "metadata": {
        "id": "-wc6AtrF8HJI",
        "colab": {
          "base_uri": "https://localhost:8080/"
        },
        "outputId": "180dcba3-847a-42b0-faa2-e76be70fdb5d"
      },
      "source": [
        "x_py.shape"
      ],
      "execution_count": null,
      "outputs": [
        {
          "output_type": "execute_result",
          "data": {
            "text/plain": [
              "torch.Size([3])"
            ]
          },
          "metadata": {},
          "execution_count": 18
        }
      ]
    },
    {
      "cell_type": "markdown",
      "metadata": {
        "id": "iqnF2i0-17ws"
      },
      "source": [
        "### Norms\n",
        "* Norms are functions that quantify a vector's magnitude\n",
        "* A norm is a way of measuring the distance a vector travels\n",
        "* $L^1$ Norm is the sum of absolute values of all elements in a vector\n",
        "* $L^2$ Norm is one of the most used functions and it measures the simple distance (Euclidian) from origin\n",
        "  * $L^2$ Norm formula [here](https://towardsdatascience.com/why-norms-matters-machine-learning-3f08120af429)\n",
        "  * Unit vector is a special case where $L^2$ Norm is equal to 1\n",
        "* Squared $L^2$ Norm\n",
        "  * It is computationally cheaper than $L^2$ Norm\n",
        "  * It is the product of a vector and its transpose\n",
        "  * The downside is that it grows slowly near origin, so in that case $L^1$ Norm is to be used\n",
        "* $L^\\infty$ Norm or Max Norm is the Max absolute value of the elements of a vector\n",
        "* $L^p$ Norm is the general Norm formula where **p** is a real number greater or equal to 1"
      ]
    },
    {
      "cell_type": "code",
      "metadata": {
        "colab": {
          "base_uri": "https://localhost:8080/"
        },
        "id": "piC4TKCc6Q8i",
        "outputId": "a7a500ab-404a-439d-886b-e2b701246163"
      },
      "source": [
        "# Display vector\n",
        "x"
      ],
      "execution_count": null,
      "outputs": [
        {
          "output_type": "execute_result",
          "data": {
            "text/plain": [
              "array([   2,   28, 1979])"
            ]
          },
          "metadata": {},
          "execution_count": 19
        }
      ]
    },
    {
      "cell_type": "code",
      "metadata": {
        "colab": {
          "base_uri": "https://localhost:8080/"
        },
        "id": "ave_yHiJB2V7",
        "outputId": "bf5329f9-33a9-4c0a-bc3c-f5aa1f0d9535"
      },
      "source": [
        "# Formula for L1 Norm\n",
        "np.abs(x[0]) + np.abs(x[1]) + np.abs(x[2])"
      ],
      "execution_count": null,
      "outputs": [
        {
          "output_type": "execute_result",
          "data": {
            "text/plain": [
              "2009"
            ]
          },
          "metadata": {},
          "execution_count": 20
        }
      ]
    },
    {
      "cell_type": "code",
      "metadata": {
        "colab": {
          "base_uri": "https://localhost:8080/"
        },
        "id": "cF0y0Qee7p_A",
        "outputId": "aabff05f-bdb9-4486-96a4-f36498a8ab30"
      },
      "source": [
        "# Start calculating the L2 Norm by squaring each element of the array and summing them up\n",
        "x[0]**2 + x[1]**2 + x[2]**2"
      ],
      "execution_count": null,
      "outputs": [
        {
          "output_type": "execute_result",
          "data": {
            "text/plain": [
              "3917229"
            ]
          },
          "metadata": {},
          "execution_count": 21
        }
      ]
    },
    {
      "cell_type": "code",
      "metadata": {
        "colab": {
          "base_uri": "https://localhost:8080/"
        },
        "id": "8o-07Zdq8AYQ",
        "outputId": "8a62bd6e-a133-48df-b5ea-5ce05d8fdf23"
      },
      "source": [
        "# L2 Norm is the square root of the squared sums of elements\n",
        "(x[0]**2 + x[1]**2 + x[2]**2)**(1/2)"
      ],
      "execution_count": null,
      "outputs": [
        {
          "output_type": "execute_result",
          "data": {
            "text/plain": [
              "1979.1990804363263"
            ]
          },
          "metadata": {},
          "execution_count": 22
        }
      ]
    },
    {
      "cell_type": "code",
      "metadata": {
        "colab": {
          "base_uri": "https://localhost:8080/"
        },
        "id": "9l4_Bdp-8QlH",
        "outputId": "b59c6fce-f1ed-4832-8cd3-bd56042622a8"
      },
      "source": [
        "# Get the same result by using the built-in Numpy formula (using the linear algera module in Numpy)\n",
        "np.linalg.norm(x)"
      ],
      "execution_count": null,
      "outputs": [
        {
          "output_type": "execute_result",
          "data": {
            "text/plain": [
              "1979.1990804363263"
            ]
          },
          "metadata": {},
          "execution_count": 23
        }
      ]
    },
    {
      "cell_type": "code",
      "metadata": {
        "colab": {
          "base_uri": "https://localhost:8080/"
        },
        "id": "jovOaQWw8y06",
        "outputId": "7b2aa413-5938-44ab-b989-7c835c972039"
      },
      "source": [
        "# An easier example is the 2-dimensional vector where the L2 Norm is the hypothenuse\n",
        "y = ([3, 4])\n",
        "np.linalg.norm(y)"
      ],
      "execution_count": null,
      "outputs": [
        {
          "output_type": "execute_result",
          "data": {
            "text/plain": [
              "5.0"
            ]
          },
          "metadata": {},
          "execution_count": 24
        }
      ]
    },
    {
      "cell_type": "code",
      "metadata": {
        "colab": {
          "base_uri": "https://localhost:8080/"
        },
        "id": "vfyDUiQ-9FF9",
        "outputId": "5f5c74cd-78b2-4223-dc96-9120e723cc83"
      },
      "source": [
        "# Max Norm calculation\n",
        "np.max([np.abs(x[0]), np.abs(x[1]), np.abs(x[2])])"
      ],
      "execution_count": null,
      "outputs": [
        {
          "output_type": "execute_result",
          "data": {
            "text/plain": [
              "1979"
            ]
          },
          "metadata": {},
          "execution_count": 25
        }
      ]
    },
    {
      "cell_type": "code",
      "metadata": {
        "id": "y1e-GNyeGZmv"
      },
      "source": [
        ""
      ],
      "execution_count": null,
      "outputs": []
    },
    {
      "cell_type": "markdown",
      "metadata": {
        "id": "nyXmdt5xP1ME"
      },
      "source": [
        "Matrices (Rank 2 Tensors)\n",
        "------------------------\n",
        "* Matrices are transformations of vectors in space\n",
        "* Think of a matrix colums as separate vectors - coordinates in space where basis vectors land after vector transformation\n",
        "* Matrices are two-dimensional arrays of scalars\n",
        "\n",
        "Resource:\n",
        "1. [Linear Transformation and Matrices](https://www.youtube.com/watch?v=kYB8IZa5AuE&list=PLZHQObOWTQDPD3MizzM2xVFitgF8hE_ab&index=3&ab_channel=3Blue1Brown)\n"
      ]
    },
    {
      "cell_type": "code",
      "metadata": {
        "id": "5FsTeuX5PMKH"
      },
      "source": [
        "z = np.array([[2, 28, 1979], [3, 12, 1983]])"
      ],
      "execution_count": null,
      "outputs": []
    },
    {
      "cell_type": "code",
      "metadata": {
        "colab": {
          "base_uri": "https://localhost:8080/"
        },
        "id": "z_0uObvPPX1I",
        "outputId": "5940c20b-42b2-4289-9171-048f19ed7e6e"
      },
      "source": [
        "z"
      ],
      "execution_count": null,
      "outputs": [
        {
          "output_type": "execute_result",
          "data": {
            "text/plain": [
              "array([[   2,   28, 1979],\n",
              "       [   3,   12, 1983]])"
            ]
          },
          "metadata": {},
          "execution_count": 27
        }
      ]
    },
    {
      "cell_type": "code",
      "metadata": {
        "colab": {
          "base_uri": "https://localhost:8080/"
        },
        "id": "ApWovscdPYRr",
        "outputId": "24f83819-23b1-4967-d84c-22d65c8d0ade"
      },
      "source": [
        "# Use the built in Python method to find the transpose of a matrix\n",
        "z.T"
      ],
      "execution_count": null,
      "outputs": [
        {
          "output_type": "execute_result",
          "data": {
            "text/plain": [
              "array([[   2,    3],\n",
              "       [  28,   12],\n",
              "       [1979, 1983]])"
            ]
          },
          "metadata": {},
          "execution_count": 28
        }
      ]
    },
    {
      "cell_type": "markdown",
      "metadata": {
        "id": "yt6Ce0SCZlS5"
      },
      "source": [
        "Operations with Tensors\n",
        "-----------------------"
      ]
    },
    {
      "cell_type": "markdown",
      "metadata": {
        "id": "d5c-za-bQyC3"
      },
      "source": [
        "### Add or Multiply Scalars and Tensors"
      ]
    },
    {
      "cell_type": "code",
      "metadata": {
        "colab": {
          "base_uri": "https://localhost:8080/"
        },
        "id": "-FMCfx5mPay7",
        "outputId": "2a4197b2-dad9-4c49-b119-b3c8f077cff4"
      },
      "source": [
        "z + 10"
      ],
      "execution_count": null,
      "outputs": [
        {
          "output_type": "execute_result",
          "data": {
            "text/plain": [
              "array([[  12,   38, 1989],\n",
              "       [  13,   22, 1993]])"
            ]
          },
          "metadata": {},
          "execution_count": 29
        }
      ]
    },
    {
      "cell_type": "code",
      "metadata": {
        "colab": {
          "base_uri": "https://localhost:8080/"
        },
        "id": "lN1Y50PZRAuG",
        "outputId": "efa95d22-c746-4b3b-c18b-152eea5f8ba7"
      },
      "source": [
        "z * 10"
      ],
      "execution_count": null,
      "outputs": [
        {
          "output_type": "execute_result",
          "data": {
            "text/plain": [
              "array([[   20,   280, 19790],\n",
              "       [   30,   120, 19830]])"
            ]
          },
          "metadata": {},
          "execution_count": 30
        }
      ]
    },
    {
      "cell_type": "markdown",
      "metadata": {
        "id": "nOxjsbjaKpPi"
      },
      "source": [
        "### Hadamard Product - multiplying matrices, element by element\n",
        "* Matrices need to be of the same size"
      ]
    },
    {
      "cell_type": "code",
      "metadata": {
        "id": "2uXS4JziKw49"
      },
      "source": [
        "A = np.array([[2, 4, 6], [8, 10, 12]])\n",
        "B = np.array([[3, 5, 7], [9, 11, 14]])"
      ],
      "execution_count": null,
      "outputs": []
    },
    {
      "cell_type": "code",
      "metadata": {
        "colab": {
          "base_uri": "https://localhost:8080/"
        },
        "id": "P4x5Ur3oLCM6",
        "outputId": "a357c4f2-d204-409a-8ba3-4f3aa2757aea"
      },
      "source": [
        "# Perform the element-wise multiplication\n",
        "A * B"
      ],
      "execution_count": null,
      "outputs": [
        {
          "output_type": "execute_result",
          "data": {
            "text/plain": [
              "array([[  6,  20,  42],\n",
              "       [ 72, 110, 168]])"
            ]
          },
          "metadata": {},
          "execution_count": 32
        }
      ]
    },
    {
      "cell_type": "markdown",
      "metadata": {
        "id": "k4ReYqOLPy8V"
      },
      "source": [
        "### Tensor Reduction\n",
        "Calculating the sum across all elements of a tensor is a common operation. This reduces the elements contained within the tensor. For example: \n",
        "\n",
        "* For vector ***x*** of length *n*, we calculate $\\sum_{i=1}^{n} x_i$\n",
        "* For matrix ***X*** with *m* by *n* dimensions, we calculate $\\sum_{i=1}^{m} \\sum_{j=1}^{n} X_{i,j}$\n",
        "* Other operations involved in Tensor Reduction are: max, min, mean, product"
      ]
    },
    {
      "cell_type": "code",
      "metadata": {
        "colab": {
          "base_uri": "https://localhost:8080/"
        },
        "id": "e7pc8KfELEzJ",
        "outputId": "ce20bd9a-19d4-482e-ae87-30c1473eb6b1"
      },
      "source": [
        "A"
      ],
      "execution_count": null,
      "outputs": [
        {
          "output_type": "execute_result",
          "data": {
            "text/plain": [
              "array([[ 2,  4,  6],\n",
              "       [ 8, 10, 12]])"
            ]
          },
          "metadata": {},
          "execution_count": 33
        }
      ]
    },
    {
      "cell_type": "code",
      "metadata": {
        "colab": {
          "base_uri": "https://localhost:8080/"
        },
        "id": "y_B3wmvkRTJb",
        "outputId": "5eaf4c5b-41c0-483b-b300-138573639ab0"
      },
      "source": [
        "# Reduce the tensor by summation\n",
        "A.sum()"
      ],
      "execution_count": null,
      "outputs": [
        {
          "output_type": "execute_result",
          "data": {
            "text/plain": [
              "42"
            ]
          },
          "metadata": {},
          "execution_count": 34
        }
      ]
    },
    {
      "cell_type": "code",
      "metadata": {
        "colab": {
          "base_uri": "https://localhost:8080/"
        },
        "id": "Xjv2D0wRUGk5",
        "outputId": "8523c758-04ff-4037-f84c-47cb764f013e"
      },
      "source": [
        "# The reduction can be along one specific axis alone \n",
        "# Summation along columns\n",
        "A.sum(axis=0)"
      ],
      "execution_count": null,
      "outputs": [
        {
          "output_type": "execute_result",
          "data": {
            "text/plain": [
              "array([10, 14, 18])"
            ]
          },
          "metadata": {},
          "execution_count": 35
        }
      ]
    },
    {
      "cell_type": "code",
      "metadata": {
        "colab": {
          "base_uri": "https://localhost:8080/"
        },
        "id": "rIC2G-HyVARd",
        "outputId": "7e03c7bb-3c1e-4a88-9d3b-c98d87021aeb"
      },
      "source": [
        "# The reduction can be along one specific axis alone \n",
        "# Summation along rows\n",
        "A.sum(axis=1)"
      ],
      "execution_count": null,
      "outputs": [
        {
          "output_type": "execute_result",
          "data": {
            "text/plain": [
              "array([12, 30])"
            ]
          },
          "metadata": {},
          "execution_count": 36
        }
      ]
    },
    {
      "cell_type": "markdown",
      "metadata": {
        "id": "wT-W9--mZCC6"
      },
      "source": [
        "### The Dot Product\n",
        "If we have two vectors (say, ***x*** and ***y***) with the same length *n*, we can calculate the dot product between them. This is annotated several different ways, including the following: \n",
        "\n",
        "* $x \\cdot y$\n",
        "* $x^Ty$\n",
        "* $\\langle x,y \\rangle$\n",
        "\n",
        "Regardless which notation you use, the calculation is the same; we calculate products in an element-wise fashion and then sum reductively across the products to a scalar value. That is, $x \\cdot y = \\sum_{i=1}^{n} x_i y_i$\n",
        "\n",
        "The dot product is ubiquitous in deep learning: It is performed at every artificial neuron in a deep neural network, which may be made up of millions (or orders of magnitude more) of these neurons."
      ]
    },
    {
      "cell_type": "code",
      "metadata": {
        "colab": {
          "base_uri": "https://localhost:8080/"
        },
        "id": "ku3kdY_7Zev6",
        "outputId": "dfb29405-d2bf-4d91-c7cb-e1ba03c09c3c"
      },
      "source": [
        "A"
      ],
      "execution_count": null,
      "outputs": [
        {
          "output_type": "execute_result",
          "data": {
            "text/plain": [
              "array([[ 2,  4,  6],\n",
              "       [ 8, 10, 12]])"
            ]
          },
          "metadata": {},
          "execution_count": 37
        }
      ]
    },
    {
      "cell_type": "code",
      "metadata": {
        "id": "AkxFUJqBZ_cr",
        "colab": {
          "base_uri": "https://localhost:8080/"
        },
        "outputId": "83adf354-b246-481f-b12f-3c5c957dc787"
      },
      "source": [
        "B"
      ],
      "execution_count": null,
      "outputs": [
        {
          "output_type": "execute_result",
          "data": {
            "text/plain": [
              "array([[ 3,  5,  7],\n",
              "       [ 9, 11, 14]])"
            ]
          },
          "metadata": {},
          "execution_count": 38
        }
      ]
    },
    {
      "cell_type": "code",
      "metadata": {
        "id": "2T9Vkeh8Z_52",
        "colab": {
          "base_uri": "https://localhost:8080/"
        },
        "outputId": "e3b0f165-3ce7-44a4-e428-8ddf35a0160b"
      },
      "source": [
        "# You need to take the transpose of B to be the same length as tensor A\n",
        "np.dot(A, B.T)"
      ],
      "execution_count": null,
      "outputs": [
        {
          "output_type": "execute_result",
          "data": {
            "text/plain": [
              "array([[ 68, 146],\n",
              "       [158, 350]])"
            ]
          },
          "metadata": {},
          "execution_count": 39
        }
      ]
    },
    {
      "cell_type": "code",
      "metadata": {
        "id": "PQ42t2MsaFXm",
        "colab": {
          "base_uri": "https://localhost:8080/"
        },
        "outputId": "65d0abed-a341-464f-fc07-9ee38e78a99f"
      },
      "source": [
        "x"
      ],
      "execution_count": null,
      "outputs": [
        {
          "output_type": "execute_result",
          "data": {
            "text/plain": [
              "array([   2,   28, 1979])"
            ]
          },
          "metadata": {},
          "execution_count": 40
        }
      ]
    },
    {
      "cell_type": "code",
      "metadata": {
        "id": "cD-5pC-zbe96"
      },
      "source": [
        "k = ([8, 25, 2011])"
      ],
      "execution_count": null,
      "outputs": []
    },
    {
      "cell_type": "code",
      "metadata": {
        "id": "A6v7N3Dybf2A",
        "colab": {
          "base_uri": "https://localhost:8080/"
        },
        "outputId": "95181b84-c811-4e97-fe25-2c16138fa1c1"
      },
      "source": [
        "# The Dot Product of two vectors is a scalar\n",
        "np.dot(x, k)"
      ],
      "execution_count": null,
      "outputs": [
        {
          "output_type": "execute_result",
          "data": {
            "text/plain": [
              "3980485"
            ]
          },
          "metadata": {},
          "execution_count": 42
        }
      ]
    },
    {
      "cell_type": "markdown",
      "metadata": {
        "id": "4pSyL0U_kzc1"
      },
      "source": [
        "Matrix Properties\n",
        "------------------------\n"
      ]
    },
    {
      "cell_type": "markdown",
      "metadata": {
        "id": "yYgy0-tmk_0T"
      },
      "source": [
        "### Frobenius Norm\n",
        "\n",
        "* Analogous to $L^2$ Norm of vectors, which is the square root of the squared sums of its elements\n",
        "* Measures the size of the matrix in terms of the Euclidian  distance\n",
        "* It is the sum of the magnitude of all elements in the matrix"
      ]
    },
    {
      "cell_type": "code",
      "metadata": {
        "id": "0CmECgsYk4-3",
        "colab": {
          "base_uri": "https://localhost:8080/"
        },
        "outputId": "0b7a7e6f-b3cb-4a68-d8a8-cba8b1f58f2f"
      },
      "source": [
        "# For matrix A...\n",
        "A"
      ],
      "execution_count": null,
      "outputs": [
        {
          "output_type": "execute_result",
          "data": {
            "text/plain": [
              "array([[ 2,  4,  6],\n",
              "       [ 8, 10, 12]])"
            ]
          },
          "metadata": {},
          "execution_count": 43
        }
      ]
    },
    {
      "cell_type": "code",
      "metadata": {
        "colab": {
          "base_uri": "https://localhost:8080/"
        },
        "id": "qwdvErftkfKg",
        "outputId": "7f12e0e8-6a23-42b9-f73d-f17399194a79"
      },
      "source": [
        "# ...manually calculate the Frobenius Norm\n",
        "(2**2 + 4**2 + 6**2 + 8**2 + 10**2 + 12**2)**(1/2)"
      ],
      "execution_count": null,
      "outputs": [
        {
          "output_type": "execute_result",
          "data": {
            "text/plain": [
              "19.078784028338912"
            ]
          },
          "metadata": {},
          "execution_count": 44
        }
      ]
    },
    {
      "cell_type": "code",
      "metadata": {
        "colab": {
          "base_uri": "https://localhost:8080/"
        },
        "id": "ZLugVGrAk-5c",
        "outputId": "cdf6efca-641c-41a1-a086-a5c73b369384"
      },
      "source": [
        "# ...or use the Numpy built-in method...same one from vectors\n",
        "np.linalg.norm(A)"
      ],
      "execution_count": null,
      "outputs": [
        {
          "output_type": "execute_result",
          "data": {
            "text/plain": [
              "19.078784028338912"
            ]
          },
          "metadata": {},
          "execution_count": 45
        }
      ]
    },
    {
      "cell_type": "markdown",
      "metadata": {
        "id": "PfmmF3A3okjd"
      },
      "source": [
        "### Matrix Multiplication\n",
        "* Represents applying one vector transformation after another (e.g. rotation first followed by shear)\n",
        "* The number of columns in matrix A needs to be the same as the number of rows in matrix B\n",
        "* The product will have the same number of rows as matrix A and the same number of columns as matrix B\n",
        "* Matrix multiplication is NOT commutative\n",
        "* Matrix multiplication is associative -> A(BC) = (AB)C since we apply matrices going from right to left\n",
        "* In Numpy, matrix multiplication is performed using the DOT method\n"
      ]
    },
    {
      "cell_type": "code",
      "metadata": {
        "id": "VeiL8rWOlOCS"
      },
      "source": [
        "# Matrix C\n",
        "C = np.array([[2, 4, 6],  [1, 3, 5]])"
      ],
      "execution_count": null,
      "outputs": []
    },
    {
      "cell_type": "code",
      "metadata": {
        "colab": {
          "base_uri": "https://localhost:8080/"
        },
        "id": "svJ6PzNTdfTq",
        "outputId": "dc5c1847-9c92-4a86-ee1e-de27239eb8c5"
      },
      "source": [
        "type(C)"
      ],
      "execution_count": null,
      "outputs": [
        {
          "output_type": "execute_result",
          "data": {
            "text/plain": [
              "numpy.ndarray"
            ]
          },
          "metadata": {},
          "execution_count": 47
        }
      ]
    },
    {
      "cell_type": "code",
      "metadata": {
        "id": "7UEDyvnudfxk"
      },
      "source": [
        "# Matrix D\n",
        "D = np.array([[10, 20], [30, 40], [50, 60]])"
      ],
      "execution_count": null,
      "outputs": []
    },
    {
      "cell_type": "code",
      "metadata": {
        "colab": {
          "base_uri": "https://localhost:8080/"
        },
        "id": "sAUNRMb_d-5F",
        "outputId": "1e021b75-cb27-48f2-88f7-8581c34df03b"
      },
      "source": [
        "C"
      ],
      "execution_count": null,
      "outputs": [
        {
          "output_type": "execute_result",
          "data": {
            "text/plain": [
              "array([[2, 4, 6],\n",
              "       [1, 3, 5]])"
            ]
          },
          "metadata": {},
          "execution_count": 49
        }
      ]
    },
    {
      "cell_type": "code",
      "metadata": {
        "colab": {
          "base_uri": "https://localhost:8080/"
        },
        "id": "row1gAU_eBQ8",
        "outputId": "7d7dc9cb-80bc-4f8d-ce80-00b762c357e1"
      },
      "source": [
        "D"
      ],
      "execution_count": null,
      "outputs": [
        {
          "output_type": "execute_result",
          "data": {
            "text/plain": [
              "array([[10, 20],\n",
              "       [30, 40],\n",
              "       [50, 60]])"
            ]
          },
          "metadata": {},
          "execution_count": 50
        }
      ]
    },
    {
      "cell_type": "code",
      "metadata": {
        "colab": {
          "base_uri": "https://localhost:8080/"
        },
        "id": "vapE3MajeDXc",
        "outputId": "b9227a9a-86c7-4ea8-982a-e1d9300ee3a5"
      },
      "source": [
        "np.dot(C, D)"
      ],
      "execution_count": null,
      "outputs": [
        {
          "output_type": "execute_result",
          "data": {
            "text/plain": [
              "array([[440, 560],\n",
              "       [350, 440]])"
            ]
          },
          "metadata": {},
          "execution_count": 51
        }
      ]
    },
    {
      "cell_type": "markdown",
      "metadata": {
        "id": "MqPRIpHnTmsp"
      },
      "source": [
        "### Symetric Matrices\n",
        "* It is a square matrix - equal number of rows and columns\n",
        "* The transpose of the matrix equals the original matrix"
      ]
    },
    {
      "cell_type": "code",
      "metadata": {
        "id": "jS58XmjpeH_T"
      },
      "source": [
        "# Define a symetric matrix\n",
        "S = np.array([[2, 4, 9], [4, 8, 6], [9, 6, 5]])"
      ],
      "execution_count": null,
      "outputs": []
    },
    {
      "cell_type": "code",
      "metadata": {
        "colab": {
          "base_uri": "https://localhost:8080/"
        },
        "id": "J3ZC82dCVhf0",
        "outputId": "ddb50f66-67ad-487d-c129-c93fb2a5a658"
      },
      "source": [
        "# Here is the original matrix\n",
        "S"
      ],
      "execution_count": null,
      "outputs": [
        {
          "output_type": "execute_result",
          "data": {
            "text/plain": [
              "array([[2, 4, 9],\n",
              "       [4, 8, 6],\n",
              "       [9, 6, 5]])"
            ]
          },
          "metadata": {},
          "execution_count": 53
        }
      ]
    },
    {
      "cell_type": "code",
      "metadata": {
        "colab": {
          "base_uri": "https://localhost:8080/"
        },
        "id": "waF4KIfoViEx",
        "outputId": "c35c5b22-41f1-45c3-c44e-7889100909cb"
      },
      "source": [
        "# ...and its transpose\n",
        "S.T"
      ],
      "execution_count": null,
      "outputs": [
        {
          "output_type": "execute_result",
          "data": {
            "text/plain": [
              "array([[2, 4, 9],\n",
              "       [4, 8, 6],\n",
              "       [9, 6, 5]])"
            ]
          },
          "metadata": {},
          "execution_count": 54
        }
      ]
    },
    {
      "cell_type": "code",
      "metadata": {
        "colab": {
          "base_uri": "https://localhost:8080/"
        },
        "id": "9t0ETZWqd_Iz",
        "outputId": "06f519d1-6177-47d3-d2c7-f757e95b93a4"
      },
      "source": [
        "# Check if they are similar\n",
        "S == S.T"
      ],
      "execution_count": null,
      "outputs": [
        {
          "output_type": "execute_result",
          "data": {
            "text/plain": [
              "array([[ True,  True,  True],\n",
              "       [ True,  True,  True],\n",
              "       [ True,  True,  True]])"
            ]
          },
          "metadata": {},
          "execution_count": 55
        }
      ]
    },
    {
      "cell_type": "markdown",
      "metadata": {
        "id": "wgCCOSQE0Tdq"
      },
      "source": [
        "### Identity Matrix\n",
        "* It is a symetric matrix, denoted as  $I_n$ where n corresponds to the number of rows (or columns)\n",
        "* Every element along main diagonal is 1\n",
        "* All other elements are 0"
      ]
    },
    {
      "cell_type": "code",
      "metadata": {
        "id": "nxZsR-EnyFFg"
      },
      "source": [
        "# Create an Indentity matrix\n",
        "I = np.array([[1, 0, 0], [0, 1, 0], [0, 0, 1]])"
      ],
      "execution_count": null,
      "outputs": []
    },
    {
      "cell_type": "code",
      "metadata": {
        "colab": {
          "base_uri": "https://localhost:8080/"
        },
        "id": "arelRqrX4ULl",
        "outputId": "0ee83f9e-7e9c-4632-81f1-088d3e98dc74"
      },
      "source": [
        "I"
      ],
      "execution_count": null,
      "outputs": [
        {
          "output_type": "execute_result",
          "data": {
            "text/plain": [
              "array([[1, 0, 0],\n",
              "       [0, 1, 0],\n",
              "       [0, 0, 1]])"
            ]
          },
          "metadata": {},
          "execution_count": 57
        }
      ]
    },
    {
      "cell_type": "markdown",
      "metadata": {
        "id": "MIg0hg7u7626"
      },
      "source": [
        "### Matrix Inverse\n",
        "* It is denoted as $X^{-1}$\n",
        "* $X^{-1}X = I_n$\n",
        "* It is used to solve linear equations\n",
        "* The matrix X needs to be square\n",
        "* We don't divide matrices, just multiply them; that's why you need the matrix inverse"
      ]
    },
    {
      "cell_type": "code",
      "metadata": {
        "id": "lE7NSKoQ4U6-"
      },
      "source": [
        "# Find out the inverser of a matrix\n",
        "E = np.array([[4, 7], [2, 6]])"
      ],
      "execution_count": null,
      "outputs": []
    },
    {
      "cell_type": "code",
      "metadata": {
        "colab": {
          "base_uri": "https://localhost:8080/"
        },
        "id": "BqxYw8ZEA_-U",
        "outputId": "13b94080-bcc1-41e1-ea33-60d9eff94d7d"
      },
      "source": [
        "E"
      ],
      "execution_count": null,
      "outputs": [
        {
          "output_type": "execute_result",
          "data": {
            "text/plain": [
              "array([[4, 7],\n",
              "       [2, 6]])"
            ]
          },
          "metadata": {},
          "execution_count": 59
        }
      ]
    },
    {
      "cell_type": "code",
      "metadata": {
        "id": "KCcPdlfxAXmG"
      },
      "source": [
        "E_inv = np.linalg.inv(E)"
      ],
      "execution_count": null,
      "outputs": []
    },
    {
      "cell_type": "code",
      "metadata": {
        "colab": {
          "base_uri": "https://localhost:8080/"
        },
        "id": "6cW1ftQYAfWu",
        "outputId": "1485aa81-9c84-4577-888e-88765533a336"
      },
      "source": [
        "E_inv"
      ],
      "execution_count": null,
      "outputs": [
        {
          "output_type": "execute_result",
          "data": {
            "text/plain": [
              "array([[ 0.6, -0.7],\n",
              "       [-0.2,  0.4]])"
            ]
          },
          "metadata": {},
          "execution_count": 61
        }
      ]
    },
    {
      "cell_type": "code",
      "metadata": {
        "colab": {
          "base_uri": "https://localhost:8080/"
        },
        "id": "aGECL-cOBOlz",
        "outputId": "d102ef95-b9b5-467f-bbf0-a2c5af172fca"
      },
      "source": [
        "# Check the product of the original matrix and its inverse\n",
        "np.dot(E_inv, E)"
      ],
      "execution_count": null,
      "outputs": [
        {
          "output_type": "execute_result",
          "data": {
            "text/plain": [
              "array([[ 1.00000000e+00, -2.22044605e-16],\n",
              "       [ 0.00000000e+00,  1.00000000e+00]])"
            ]
          },
          "metadata": {},
          "execution_count": 62
        }
      ]
    },
    {
      "cell_type": "markdown",
      "metadata": {
        "id": "vGaM6WKZH6_b"
      },
      "source": [
        "### Solve an Equation System using Matrix Inverses\n",
        "* Here are the two equations in the system:\n",
        "$$ 4b + 2c = 4 $$\n",
        "$$ -5b - 3c = -7 $$\n",
        "* The general formula for this system is (W is the unknown matrix):\n",
        "$$XW = Y$$\n",
        "* Here is how we solve it:\n",
        "$$ X^{-1}XW = X^{-1}Y $$\n",
        "$$ W = X^{-1}Y $$"
      ]
    },
    {
      "cell_type": "code",
      "metadata": {
        "id": "_cCKgAmpBusv"
      },
      "source": [
        "# Here is the matrix generated by the equation coefficients\n",
        "X = np.array([[4, 2], [-5, -3]])"
      ],
      "execution_count": null,
      "outputs": []
    },
    {
      "cell_type": "code",
      "metadata": {
        "colab": {
          "base_uri": "https://localhost:8080/"
        },
        "id": "c0WtJFHKCPpe",
        "outputId": "05796c97-146e-4de8-afc9-0d798bb8229a"
      },
      "source": [
        "X"
      ],
      "execution_count": null,
      "outputs": [
        {
          "output_type": "execute_result",
          "data": {
            "text/plain": [
              "array([[ 4,  2],\n",
              "       [-5, -3]])"
            ]
          },
          "metadata": {},
          "execution_count": 64
        }
      ]
    },
    {
      "cell_type": "code",
      "metadata": {
        "id": "Fa9f90UlCbam"
      },
      "source": [
        "# Here is the matrix inverse\n",
        "X_inv = np.linalg.inv(X)"
      ],
      "execution_count": null,
      "outputs": []
    },
    {
      "cell_type": "code",
      "metadata": {
        "colab": {
          "base_uri": "https://localhost:8080/"
        },
        "id": "Z7BFaYVWCh_L",
        "outputId": "c5523c35-774b-4f39-e7bb-906a74387428"
      },
      "source": [
        "X_inv"
      ],
      "execution_count": null,
      "outputs": [
        {
          "output_type": "execute_result",
          "data": {
            "text/plain": [
              "array([[ 1.5,  1. ],\n",
              "       [-2.5, -2. ]])"
            ]
          },
          "metadata": {},
          "execution_count": 66
        }
      ]
    },
    {
      "cell_type": "code",
      "metadata": {
        "id": "7jxo7tPlSwHM"
      },
      "source": [
        "# Here is the matrix generated by the equation results\n",
        "Y = np.array([4, -7])"
      ],
      "execution_count": null,
      "outputs": []
    },
    {
      "cell_type": "code",
      "metadata": {
        "id": "QLwhXEWmCjZN"
      },
      "source": [
        "# Here is the unknown matrix\n",
        "W = np.dot(X_inv, Y)"
      ],
      "execution_count": null,
      "outputs": []
    },
    {
      "cell_type": "code",
      "metadata": {
        "colab": {
          "base_uri": "https://localhost:8080/"
        },
        "id": "3uQ6j2rBCn0r",
        "outputId": "a1d45d59-c450-4e60-9d2c-bae3c7632b16"
      },
      "source": [
        "W"
      ],
      "execution_count": null,
      "outputs": [
        {
          "output_type": "execute_result",
          "data": {
            "text/plain": [
              "array([-1.,  4.])"
            ]
          },
          "metadata": {},
          "execution_count": 69
        }
      ]
    },
    {
      "cell_type": "markdown",
      "metadata": {
        "id": "VkxTvuFPk-4X"
      },
      "source": [
        "### Orthogonal Matrices\n",
        "* All rows and all columns are made of orthonormal vectors\n",
        "* $AA^T = A^TA = I$\n",
        "* $A^T = A^{-1}$\n"
      ]
    },
    {
      "cell_type": "code",
      "metadata": {
        "id": "Q2mJSJizl-L0"
      },
      "source": [
        "# Example of an orhtogonal matrix\n",
        "O = np.array([[-1, 0], [0, 1]])"
      ],
      "execution_count": null,
      "outputs": []
    },
    {
      "cell_type": "code",
      "metadata": {
        "colab": {
          "base_uri": "https://localhost:8080/"
        },
        "id": "BksiJArdnyYy",
        "outputId": "8b39bdc9-7935-44fd-f49c-56b3ce813aa7"
      },
      "source": [
        "O"
      ],
      "execution_count": null,
      "outputs": [
        {
          "output_type": "execute_result",
          "data": {
            "text/plain": [
              "array([[-1,  0],\n",
              "       [ 0,  1]])"
            ]
          },
          "metadata": {},
          "execution_count": 71
        }
      ]
    },
    {
      "cell_type": "code",
      "metadata": {
        "id": "oGTYAY0-nzVs"
      },
      "source": [
        "# Calculate the transpose of this matrix\n",
        "O_T = O.T"
      ],
      "execution_count": null,
      "outputs": []
    },
    {
      "cell_type": "code",
      "metadata": {
        "colab": {
          "base_uri": "https://localhost:8080/"
        },
        "id": "4D1ib4dNoAza",
        "outputId": "588bec15-f0f5-41b2-9783-288ed7c1b0a7"
      },
      "source": [
        "O_T"
      ],
      "execution_count": null,
      "outputs": [
        {
          "output_type": "execute_result",
          "data": {
            "text/plain": [
              "array([[-1,  0],\n",
              "       [ 0,  1]])"
            ]
          },
          "metadata": {},
          "execution_count": 73
        }
      ]
    },
    {
      "cell_type": "code",
      "metadata": {
        "colab": {
          "base_uri": "https://localhost:8080/"
        },
        "id": "difODjwkoCCL",
        "outputId": "104605d1-ccbd-433d-ee0d-d90892936474"
      },
      "source": [
        "# Calculate the product of the matrix and its transpose\n",
        "np.dot(O, O_T)"
      ],
      "execution_count": null,
      "outputs": [
        {
          "output_type": "execute_result",
          "data": {
            "text/plain": [
              "array([[1, 0],\n",
              "       [0, 1]])"
            ]
          },
          "metadata": {},
          "execution_count": 74
        }
      ]
    },
    {
      "cell_type": "code",
      "metadata": {
        "id": "IkxNpt5NnFQb"
      },
      "source": [
        "K = np.array([[2/3, 1/3, 2/3], [-2/3, 2/3, 1/3], [1/3, 2/3, -2/3]])"
      ],
      "execution_count": null,
      "outputs": []
    },
    {
      "cell_type": "code",
      "metadata": {
        "colab": {
          "base_uri": "https://localhost:8080/"
        },
        "id": "J6kCm4u8nFAa",
        "outputId": "b27aabd4-2f54-4ffa-be65-2e402cc3a0cf"
      },
      "source": [
        "K"
      ],
      "execution_count": null,
      "outputs": [
        {
          "output_type": "execute_result",
          "data": {
            "text/plain": [
              "array([[ 0.66666667,  0.33333333,  0.66666667],\n",
              "       [-0.66666667,  0.66666667,  0.33333333],\n",
              "       [ 0.33333333,  0.66666667, -0.66666667]])"
            ]
          },
          "metadata": {},
          "execution_count": 76
        }
      ]
    },
    {
      "cell_type": "code",
      "metadata": {
        "colab": {
          "base_uri": "https://localhost:8080/"
        },
        "id": "33AdcrOmnc4V",
        "outputId": "c1e8f8b5-574e-473c-92cb-a5b1fd07fee4"
      },
      "source": [
        "K.T"
      ],
      "execution_count": null,
      "outputs": [
        {
          "output_type": "execute_result",
          "data": {
            "text/plain": [
              "array([[ 0.66666667, -0.66666667,  0.33333333],\n",
              "       [ 0.33333333,  0.66666667,  0.66666667],\n",
              "       [ 0.66666667,  0.33333333, -0.66666667]])"
            ]
          },
          "metadata": {},
          "execution_count": 77
        }
      ]
    },
    {
      "cell_type": "code",
      "metadata": {
        "colab": {
          "base_uri": "https://localhost:8080/"
        },
        "id": "rhXoZkBHnfZW",
        "outputId": "d38fde08-f731-4131-9416-a42644e938ab"
      },
      "source": [
        "np.dot(K, K.T)"
      ],
      "execution_count": null,
      "outputs": [
        {
          "output_type": "execute_result",
          "data": {
            "text/plain": [
              "array([[ 1.00000000e+00, -1.23358114e-17,  2.46716228e-17],\n",
              "       [-1.23358114e-17,  1.00000000e+00, -1.54197642e-17],\n",
              "       [ 2.46716228e-17, -1.54197642e-17,  1.00000000e+00]])"
            ]
          },
          "metadata": {},
          "execution_count": 78
        }
      ]
    },
    {
      "cell_type": "markdown",
      "metadata": {
        "id": "xVAIZ5P-Z89z"
      },
      "source": [
        "Matrix Operations\n",
        "------------------------"
      ]
    },
    {
      "cell_type": "markdown",
      "metadata": {
        "id": "Ik0zz7F5z138"
      },
      "source": [
        "### Applying Matrices\n",
        "* Means to multiply matrices"
      ]
    },
    {
      "cell_type": "code",
      "metadata": {
        "id": "SXMLwPEmz8vS"
      },
      "source": [
        "# Create matrix X\n",
        "X = np.array([[2,0,-1], [-2,3,1], [0,4,-1]])"
      ],
      "execution_count": null,
      "outputs": []
    },
    {
      "cell_type": "code",
      "metadata": {
        "colab": {
          "base_uri": "https://localhost:8080/"
        },
        "id": "hA8aQuXF0SeW",
        "outputId": "c439e381-576b-4f84-e011-e403e1514d2b"
      },
      "source": [
        "X"
      ],
      "execution_count": null,
      "outputs": [
        {
          "output_type": "execute_result",
          "data": {
            "text/plain": [
              "array([[ 2,  0, -1],\n",
              "       [-2,  3,  1],\n",
              "       [ 0,  4, -1]])"
            ]
          },
          "metadata": {},
          "execution_count": 80
        }
      ]
    },
    {
      "cell_type": "code",
      "metadata": {
        "id": "CkWd2GlH0TGb"
      },
      "source": [
        "# Create matrix Y\n",
        "Y = np.array([[2,0], [5,-4], [-3,6]])"
      ],
      "execution_count": null,
      "outputs": []
    },
    {
      "cell_type": "code",
      "metadata": {
        "colab": {
          "base_uri": "https://localhost:8080/"
        },
        "id": "ayI48mJl0dB2",
        "outputId": "e848d480-7931-4693-f9ab-60b040fd5095"
      },
      "source": [
        "Y"
      ],
      "execution_count": null,
      "outputs": [
        {
          "output_type": "execute_result",
          "data": {
            "text/plain": [
              "array([[ 2,  0],\n",
              "       [ 5, -4],\n",
              "       [-3,  6]])"
            ]
          },
          "metadata": {},
          "execution_count": 82
        }
      ]
    },
    {
      "cell_type": "code",
      "metadata": {
        "colab": {
          "base_uri": "https://localhost:8080/"
        },
        "id": "UH0gQ_IG0dzL",
        "outputId": "a10e8604-9dc0-4141-fe22-c8abf6fcb647"
      },
      "source": [
        "# Apply Matrix X to Matrix Y\n",
        "np.dot(X, Y)"
      ],
      "execution_count": null,
      "outputs": [
        {
          "output_type": "execute_result",
          "data": {
            "text/plain": [
              "array([[  7,  -6],\n",
              "       [  8,  -6],\n",
              "       [ 23, -22]])"
            ]
          },
          "metadata": {},
          "execution_count": 83
        }
      ]
    },
    {
      "cell_type": "markdown",
      "metadata": {
        "id": "Ql8b80S83rDv"
      },
      "source": [
        "### Affine Transformations\n",
        "* **Applying a flipping matrix** (*reflection*) is an affine transformation, which is a geometric change that preserves **lines and parallelism** but not necessarily distances and angles between vectors.\n",
        "* Other examples of affine transformations are:\n",
        "  * Scaling - changing the length of vectors\n",
        "  * Shearing - a special transformation of a vector where the X-axis doesn't move and only the Y-axis moves\n",
        "  * Rotation - a transformation of a vector where both X-axis and Y-axis move\n",
        "\n",
        "Resources:\n",
        "  * [Affine transformations in Python](https://stackabuse.com/affine-image-transformations-in-python-with-numpy-pillow-and-opencv/)"
      ]
    },
    {
      "cell_type": "markdown",
      "metadata": {
        "id": "A9gNLntkJ3Un"
      },
      "source": [
        "Let's say we have a vector $v$:"
      ]
    },
    {
      "cell_type": "code",
      "metadata": {
        "colab": {
          "base_uri": "https://localhost:8080/"
        },
        "id": "SdRb7w6P0lPa",
        "outputId": "7994efa8-44e7-4b2e-ba9c-016a97046a81"
      },
      "source": [
        "v = np.array([2, 3])\n",
        "v"
      ],
      "execution_count": null,
      "outputs": [
        {
          "output_type": "execute_result",
          "data": {
            "text/plain": [
              "array([2, 3])"
            ]
          },
          "metadata": {},
          "execution_count": 84
        }
      ]
    },
    {
      "cell_type": "markdown",
      "metadata": {
        "id": "HplcBZqFLoEK"
      },
      "source": [
        "Let's plot $v$ using the plot_vectors() function (which is based on Hadrien Jean's plotVectors() function from [this notebook](https://github.com/hadrienj/deepLearningBook-Notes/blob/master/2.7%20Eigendecomposition/2.7%20Eigendecomposition.ipynb), under [MIT](https://github.com/hadrienj/deepLearningBook-Notes/blob/master/LICENSE) license)."
      ]
    },
    {
      "cell_type": "code",
      "metadata": {
        "id": "Z_e0_7SgJ-Ig"
      },
      "source": [
        "import matplotlib.pyplot as plt"
      ],
      "execution_count": null,
      "outputs": []
    },
    {
      "cell_type": "code",
      "metadata": {
        "id": "JejYJ3tZOfoR"
      },
      "source": [
        "def plot_vectors(vectors, colors):\n",
        "    \"\"\"\n",
        "    Plot one or more vectors in a 2D plane, specifying a color for each. \n",
        "\n",
        "    Arguments\n",
        "    ---------\n",
        "    vectors: list of lists or of arrays\n",
        "        Coordinates of the vectors to plot. For example, [[1, 3], [2, 2]] \n",
        "        contains two vectors to plot, [1, 3] and [2, 2].\n",
        "    colors: list\n",
        "        Colors of the vectors. For instance: ['red', 'blue'] will display the\n",
        "        first vector in red and the second in blue.\n",
        "        \n",
        "    Example\n",
        "    -------\n",
        "    plot_vectors([[1, 3], [2, 2]], ['red', 'blue'])\n",
        "    plt.xlim(-1, 4)\n",
        "    plt.ylim(-1, 4)\n",
        "    \"\"\"\n",
        "    plt.figure()\n",
        "    plt.axvline(x=0, color='lightgray')\n",
        "    plt.axhline(y=0, color='lightgray')\n",
        "\n",
        "    for i in range(len(vectors)):\n",
        "        x = np.concatenate([[0,0],vectors[i]])\n",
        "        plt.quiver([x[0]], [x[1]], [x[2]], [x[3]],\n",
        "                   angles='xy', scale_units='xy', scale=1, color=colors[i],)"
      ],
      "execution_count": null,
      "outputs": []
    },
    {
      "cell_type": "code",
      "metadata": {
        "colab": {
          "base_uri": "https://localhost:8080/",
          "height": 286
        },
        "id": "VymvcZIiOtgy",
        "outputId": "92b3c185-0e86-414a-8eb1-c5cabffb1d6a"
      },
      "source": [
        "plot_vectors([v], ['lightgreen'])\n",
        "plt.xlim(-1, 5)\n",
        "plt.ylim(-1, 5)"
      ],
      "execution_count": null,
      "outputs": [
        {
          "output_type": "execute_result",
          "data": {
            "text/plain": [
              "(-1.0, 5.0)"
            ]
          },
          "metadata": {},
          "execution_count": 87
        },
        {
          "output_type": "display_data",
          "data": {
            "image/png": "[encoded data removed]",
            "text/plain": [
              "<Figure size 432x288 with 1 Axes>"
            ]
          },
          "metadata": {
            "needs_background": "light"
          }
        }
      ]
    },
    {
      "cell_type": "markdown",
      "metadata": {
        "id": "o3xK4KyEpC7t"
      },
      "source": [
        "Consider this matrix (let's call it $E$) that flips vectors over the $x$-axis: "
      ]
    },
    {
      "cell_type": "code",
      "metadata": {
        "colab": {
          "base_uri": "https://localhost:8080/"
        },
        "id": "Yfbk3kCWOvjV",
        "outputId": "41c3c983-1fef-4a43-a858-20969e297a2f"
      },
      "source": [
        "E = np.array([[1, 0], [0, -1]])\n",
        "E"
      ],
      "execution_count": null,
      "outputs": [
        {
          "output_type": "execute_result",
          "data": {
            "text/plain": [
              "array([[ 1,  0],\n",
              "       [ 0, -1]])"
            ]
          },
          "metadata": {},
          "execution_count": 88
        }
      ]
    },
    {
      "cell_type": "code",
      "metadata": {
        "colab": {
          "base_uri": "https://localhost:8080/"
        },
        "id": "Rd7nNCmOpPdx",
        "outputId": "8e12f3e0-2878-4fc8-86ac-22fdc986565b"
      },
      "source": [
        "Ev = np.dot(E, v)\n",
        "Ev"
      ],
      "execution_count": null,
      "outputs": [
        {
          "output_type": "execute_result",
          "data": {
            "text/plain": [
              "array([ 2, -3])"
            ]
          },
          "metadata": {},
          "execution_count": 89
        }
      ]
    },
    {
      "cell_type": "markdown",
      "metadata": {
        "id": "5qZ-BG9np8f5"
      },
      "source": [
        "This chart shows both the original vector and the flipped one over the $x$-axis: "
      ]
    },
    {
      "cell_type": "code",
      "metadata": {
        "colab": {
          "base_uri": "https://localhost:8080/",
          "height": 282
        },
        "id": "tBsHlHcppWCW",
        "outputId": "3e25c8cc-6b07-4a75-ebcb-8610aec66833"
      },
      "source": [
        "plot_vectors([v, Ev], ['lightgreen', 'green'])\n",
        "plt.xlim(-1, 5)\n",
        "plt.ylim(-5, 5)"
      ],
      "execution_count": null,
      "outputs": [
        {
          "output_type": "execute_result",
          "data": {
            "text/plain": [
              "(-5.0, 5.0)"
            ]
          },
          "metadata": {},
          "execution_count": 90
        },
        {
          "output_type": "display_data",
          "data": {
            "image/png": "[encoded data removed]",
            "text/plain": [
              "<Figure size 432x288 with 1 Axes>"
            ]
          },
          "metadata": {
            "needs_background": "light"
          }
        }
      ]
    },
    {
      "cell_type": "markdown",
      "metadata": {
        "id": "wjzWUwYHofnV"
      },
      "source": [
        "Consider this matrix (let's call it $F$) that flips vectors over the $y$-axis: "
      ]
    },
    {
      "cell_type": "code",
      "metadata": {
        "colab": {
          "base_uri": "https://localhost:8080/"
        },
        "id": "wdvDpwE4pxw2",
        "outputId": "af34f30a-4792-41e2-fd8f-749b375fa854"
      },
      "source": [
        "F = np.array([[-1, 0], [0, 1]])\n",
        "F"
      ],
      "execution_count": null,
      "outputs": [
        {
          "output_type": "execute_result",
          "data": {
            "text/plain": [
              "array([[-1,  0],\n",
              "       [ 0,  1]])"
            ]
          },
          "metadata": {},
          "execution_count": 91
        }
      ]
    },
    {
      "cell_type": "code",
      "metadata": {
        "colab": {
          "base_uri": "https://localhost:8080/"
        },
        "id": "rpzVw7rKonlm",
        "outputId": "a9561473-b6a3-46e6-a75a-07a3c1c044c2"
      },
      "source": [
        "Fv = np.dot(F, v)\n",
        "Fv"
      ],
      "execution_count": null,
      "outputs": [
        {
          "output_type": "execute_result",
          "data": {
            "text/plain": [
              "array([-2,  3])"
            ]
          },
          "metadata": {},
          "execution_count": 92
        }
      ]
    },
    {
      "cell_type": "markdown",
      "metadata": {
        "id": "GMqdKuoKpSQ6"
      },
      "source": [
        "This chart shows the original vector and the ones flipped over the $x$ and $y$-axis: "
      ]
    },
    {
      "cell_type": "code",
      "metadata": {
        "colab": {
          "base_uri": "https://localhost:8080/",
          "height": 282
        },
        "id": "sWh0-AHUpS65",
        "outputId": "ef02f350-d190-4362-b8bb-99ecdb87e579"
      },
      "source": [
        "plot_vectors([v, Ev, Fv], ['lightgreen', 'green', 'red'])\n",
        "plt.xlim(-3, 5)\n",
        "plt.ylim(-5, 5)"
      ],
      "execution_count": null,
      "outputs": [
        {
          "output_type": "execute_result",
          "data": {
            "text/plain": [
              "(-5.0, 5.0)"
            ]
          },
          "metadata": {},
          "execution_count": 93
        },
        {
          "output_type": "display_data",
          "data": {
            "image/png": "[encoded data removed]",
            "text/plain": [
              "<Figure size 432x288 with 1 Axes>"
            ]
          },
          "metadata": {
            "needs_background": "light"
          }
        }
      ]
    },
    {
      "cell_type": "markdown",
      "metadata": {
        "id": "T8sXlR4SxJEz"
      },
      "source": [
        "Let's apply matrix $A$ to vector $v$: "
      ]
    },
    {
      "cell_type": "code",
      "metadata": {
        "colab": {
          "base_uri": "https://localhost:8080/"
        },
        "id": "42cYWSe8vEol",
        "outputId": "7b292188-7c62-44d8-90a3-dc8e03e388bc"
      },
      "source": [
        "A = np.array([[-1, 4], [2, -2]])\n",
        "A"
      ],
      "execution_count": null,
      "outputs": [
        {
          "output_type": "execute_result",
          "data": {
            "text/plain": [
              "array([[-1,  4],\n",
              "       [ 2, -2]])"
            ]
          },
          "metadata": {},
          "execution_count": 94
        }
      ]
    },
    {
      "cell_type": "code",
      "metadata": {
        "colab": {
          "base_uri": "https://localhost:8080/"
        },
        "id": "tQ67uBwRxV0c",
        "outputId": "efbbaf4a-5662-4072-8ffe-ec967aca93f2"
      },
      "source": [
        "Av = np.dot(A, v)\n",
        "Av"
      ],
      "execution_count": null,
      "outputs": [
        {
          "output_type": "execute_result",
          "data": {
            "text/plain": [
              "array([10, -2])"
            ]
          },
          "metadata": {},
          "execution_count": 95
        }
      ]
    },
    {
      "cell_type": "code",
      "metadata": {
        "colab": {
          "base_uri": "https://localhost:8080/",
          "height": 282
        },
        "id": "X1V1rCG40BqS",
        "outputId": "04ad1adc-7a97-4f6e-b43e-415bc5c1d021"
      },
      "source": [
        "plot_vectors([v, Av], ['lightgreen', 'red'])\n",
        "plt.xlim(-1, 12)\n",
        "plt.ylim(-5, 5)"
      ],
      "execution_count": null,
      "outputs": [
        {
          "output_type": "execute_result",
          "data": {
            "text/plain": [
              "(-5.0, 5.0)"
            ]
          },
          "metadata": {},
          "execution_count": 96
        },
        {
          "output_type": "display_data",
          "data": {
            "image/png": "[encoded data removed]",
            "text/plain": [
              "<Figure size 432x288 with 1 Axes>"
            ]
          },
          "metadata": {
            "needs_background": "light"
          }
        }
      ]
    },
    {
      "cell_type": "markdown",
      "metadata": {
        "id": "cbw7JGiM3dHB"
      },
      "source": [
        "We can concatenate multiple vectors into a matrix where each column is an independent vector. Whatever linear transformations we appy to the matrix will be independently applied to each column. \n",
        "[This](https://www.sharpsightlabs.com/blog/numpy-axes-explained/) article explains how axis are defined in Numpy."
      ]
    },
    {
      "cell_type": "code",
      "metadata": {
        "colab": {
          "base_uri": "https://localhost:8080/"
        },
        "id": "EVGX7diQ0MIH",
        "outputId": "739453f5-538f-41c2-8fcd-a5126010a96f"
      },
      "source": [
        "v1 = np.array([[2, 3]]) \n",
        "v1"
      ],
      "execution_count": null,
      "outputs": [
        {
          "output_type": "execute_result",
          "data": {
            "text/plain": [
              "array([[2, 3]])"
            ]
          },
          "metadata": {},
          "execution_count": 97
        }
      ]
    },
    {
      "cell_type": "code",
      "metadata": {
        "id": "g6aSKRdu6Kmn"
      },
      "source": [
        "v2 = np.array([[5, 8]])"
      ],
      "execution_count": null,
      "outputs": []
    },
    {
      "cell_type": "code",
      "metadata": {
        "id": "YKk1ud9U6nc-"
      },
      "source": [
        "v3 = np.array([[6, 9]])"
      ],
      "execution_count": null,
      "outputs": []
    },
    {
      "cell_type": "code",
      "metadata": {
        "colab": {
          "base_uri": "https://localhost:8080/"
        },
        "id": "epds9YJv6qyB",
        "outputId": "50fdb98b-f37e-41d8-cb8a-e331ac164990"
      },
      "source": [
        "# Concatenation along row axis\n",
        "V = np.concatenate((v1, v2, v3), axis = 0)\n",
        "V"
      ],
      "execution_count": null,
      "outputs": [
        {
          "output_type": "execute_result",
          "data": {
            "text/plain": [
              "array([[2, 3],\n",
              "       [5, 8],\n",
              "       [6, 9]])"
            ]
          },
          "metadata": {},
          "execution_count": 100
        }
      ]
    },
    {
      "cell_type": "code",
      "metadata": {
        "colab": {
          "base_uri": "https://localhost:8080/"
        },
        "id": "QLRkj6zP63z6",
        "outputId": "30de2d32-945e-48c6-c995-6899c166d5fe"
      },
      "source": [
        "# Concatenation along column axis\n",
        "V = np.concatenate((v1, v2, v3), axis = 1)\n",
        "V"
      ],
      "execution_count": null,
      "outputs": [
        {
          "output_type": "execute_result",
          "data": {
            "text/plain": [
              "array([[2, 3, 5, 8, 6, 9]])"
            ]
          },
          "metadata": {},
          "execution_count": 101
        }
      ]
    },
    {
      "cell_type": "markdown",
      "metadata": {
        "id": "h1IetkVwU9dX"
      },
      "source": [
        "### Eigenvectors and Eigenvalues\n",
        "* An **eigenvector** (*eigen* is German for \"typical\"; we could translate *eigenvector* to \"characteristic vector\") is a special vector $v$ such that when it is transformed by some matrix (let's say $A$), the product $Av$ has the exact same direction as $v$.\n",
        "\n",
        "* An **eigenvalue** is a scalar (traditionally represented as $\\lambda$) that simply scales the eigenvector $v$ such that the following equation is satisfied: \n",
        "\n",
        "  $Av = \\lambda v$"
      ]
    },
    {
      "cell_type": "markdown",
      "metadata": {
        "id": "oxe89ufrWwPm"
      },
      "source": [
        "Let's go through an example:"
      ]
    },
    {
      "cell_type": "code",
      "metadata": {
        "colab": {
          "base_uri": "https://localhost:8080/"
        },
        "id": "0uDzMumVVX1u",
        "outputId": "25907593-bed6-4ce6-f984-85d5b3b89070"
      },
      "source": [
        "A"
      ],
      "execution_count": null,
      "outputs": [
        {
          "output_type": "execute_result",
          "data": {
            "text/plain": [
              "array([[-1,  4],\n",
              "       [ 2, -2]])"
            ]
          },
          "metadata": {},
          "execution_count": 102
        }
      ]
    },
    {
      "cell_type": "markdown",
      "metadata": {
        "id": "crOJ2KTTa7rf"
      },
      "source": [
        " We'll use the NumPy `eig()` method which returns a tuple of: \n",
        "\n",
        "* a vector of eigenvalues\n",
        "* a matrix of eigenvectors"
      ]
    },
    {
      "cell_type": "code",
      "metadata": {
        "id": "xctwH35OWn_a"
      },
      "source": [
        "lambdas, V = np.linalg.eig(A)"
      ],
      "execution_count": null,
      "outputs": []
    },
    {
      "cell_type": "markdown",
      "metadata": {
        "id": "kR9WjREScRbw"
      },
      "source": [
        "The matrix contains as many eigenvectors as there are columns of A. Each column is a separate eigenvector $v$:\n"
      ]
    },
    {
      "cell_type": "code",
      "metadata": {
        "colab": {
          "base_uri": "https://localhost:8080/"
        },
        "id": "Tm4Joaf-cLwb",
        "outputId": "e2901b65-9ec4-4c9e-a59d-6b06ca6883e1"
      },
      "source": [
        "# Eigenvectors\n",
        "V"
      ],
      "execution_count": null,
      "outputs": [
        {
          "output_type": "execute_result",
          "data": {
            "text/plain": [
              "array([[ 0.86011126, -0.76454754],\n",
              "       [ 0.51010647,  0.64456735]])"
            ]
          },
          "metadata": {},
          "execution_count": 104
        }
      ]
    },
    {
      "cell_type": "code",
      "metadata": {
        "colab": {
          "base_uri": "https://localhost:8080/"
        },
        "id": "Tv3SNT0-cSb5",
        "outputId": "f0cc36c1-48fc-48eb-ffdd-b0e42a4d3bbc"
      },
      "source": [
        "# Eigenvalues\n",
        "lambdas"
      ],
      "execution_count": null,
      "outputs": [
        {
          "output_type": "execute_result",
          "data": {
            "text/plain": [
              "array([ 1.37228132, -4.37228132])"
            ]
          },
          "metadata": {},
          "execution_count": 105
        }
      ]
    },
    {
      "cell_type": "markdown",
      "metadata": {
        "id": "vqA4B5peeShX"
      },
      "source": [
        "Let's confirm that $Av = \\lambda v$ for the first eigenvector:"
      ]
    },
    {
      "cell_type": "code",
      "metadata": {
        "id": "duqU1KECcrP1"
      },
      "source": [
        "# Take the first column of matrix V\n",
        "v_1 = V[:,0]"
      ],
      "execution_count": null,
      "outputs": []
    },
    {
      "cell_type": "code",
      "metadata": {
        "colab": {
          "base_uri": "https://localhost:8080/"
        },
        "id": "PutmAwgFe0IY",
        "outputId": "351b3fcf-c7c7-4ad0-af05-f7b5241b5165"
      },
      "source": [
        "v_1"
      ],
      "execution_count": null,
      "outputs": [
        {
          "output_type": "execute_result",
          "data": {
            "text/plain": [
              "array([0.86011126, 0.51010647])"
            ]
          },
          "metadata": {},
          "execution_count": 107
        }
      ]
    },
    {
      "cell_type": "code",
      "metadata": {
        "id": "R5HWqbFSe03F"
      },
      "source": [
        "# Take the first lambda or eigenvalue\n",
        "lambda_1 = lambdas[0]"
      ],
      "execution_count": null,
      "outputs": []
    },
    {
      "cell_type": "code",
      "metadata": {
        "colab": {
          "base_uri": "https://localhost:8080/"
        },
        "id": "zi6iwhPyfisr",
        "outputId": "32251547-a7e0-4969-dc08-979f39fc48c7"
      },
      "source": [
        "lambda_1"
      ],
      "execution_count": null,
      "outputs": [
        {
          "output_type": "execute_result",
          "data": {
            "text/plain": [
              "1.3722813232690143"
            ]
          },
          "metadata": {},
          "execution_count": 109
        }
      ]
    },
    {
      "cell_type": "code",
      "metadata": {
        "id": "yQXXwkUEfk-N"
      },
      "source": [
        "# Let's calculate A * v_1\n",
        "Av_1 = np.dot(A, v_1)"
      ],
      "execution_count": null,
      "outputs": []
    },
    {
      "cell_type": "code",
      "metadata": {
        "colab": {
          "base_uri": "https://localhost:8080/"
        },
        "id": "uOyvyMYWf1S8",
        "outputId": "4d50a97f-da75-478b-9078-afae7c4384ee"
      },
      "source": [
        "Av_1"
      ],
      "execution_count": null,
      "outputs": [
        {
          "output_type": "execute_result",
          "data": {
            "text/plain": [
              "array([1.18031462, 0.70000958])"
            ]
          },
          "metadata": {},
          "execution_count": 111
        }
      ]
    },
    {
      "cell_type": "code",
      "metadata": {
        "id": "bp5DS5nLf2V1"
      },
      "source": [
        "# Let's calculate lambda_1 * v_1\n",
        "lambda_1v_1 = np.dot(lambda_1, v_1)"
      ],
      "execution_count": null,
      "outputs": []
    },
    {
      "cell_type": "code",
      "metadata": {
        "colab": {
          "base_uri": "https://localhost:8080/"
        },
        "id": "RgMc_l2igKgv",
        "outputId": "79cf4156-84f6-4aa6-c742-644fc3f9c8c3"
      },
      "source": [
        "lambda_1v_1"
      ],
      "execution_count": null,
      "outputs": [
        {
          "output_type": "execute_result",
          "data": {
            "text/plain": [
              "array([1.18031462, 0.70000958])"
            ]
          },
          "metadata": {},
          "execution_count": 113
        }
      ]
    },
    {
      "cell_type": "markdown",
      "metadata": {
        "id": "ALGgAw3Ngf9n"
      },
      "source": [
        "Let's plot the original vector (light blue) and the eigenvector (blue)"
      ]
    },
    {
      "cell_type": "code",
      "metadata": {
        "colab": {
          "base_uri": "https://localhost:8080/",
          "height": 286
        },
        "id": "UG48VJ9ggLzV",
        "outputId": "88347969-4ca4-4448-a276-ff134746bb36"
      },
      "source": [
        "# The eigenvector is 1.37 times bigger than the original vector and it keeps the direction of the original vector\n",
        "plot_vectors([Av_1, v_1], ['blue', 'lightblue'])\n",
        "plt.xlim(-1, 2)\n",
        "plt.ylim(-1, 2)"
      ],
      "execution_count": null,
      "outputs": [
        {
          "output_type": "execute_result",
          "data": {
            "text/plain": [
              "(-1.0, 2.0)"
            ]
          },
          "metadata": {},
          "execution_count": 114
        },
        {
          "output_type": "display_data",
          "data": {
            "image/png": "[encoded data removed]",
            "text/plain": [
              "<Figure size 432x288 with 1 Axes>"
            ]
          },
          "metadata": {
            "needs_background": "light"
          }
        }
      ]
    },
    {
      "cell_type": "code",
      "metadata": {
        "id": "WJkm4hetgw1J"
      },
      "source": [
        "# Take the second column of matrix V\n",
        "v_2 = V[:,1]"
      ],
      "execution_count": null,
      "outputs": []
    },
    {
      "cell_type": "code",
      "metadata": {
        "colab": {
          "base_uri": "https://localhost:8080/"
        },
        "id": "rzda43FeilBF",
        "outputId": "a3358136-4351-4381-af19-6903ff422211"
      },
      "source": [
        "v_2"
      ],
      "execution_count": null,
      "outputs": [
        {
          "output_type": "execute_result",
          "data": {
            "text/plain": [
              "array([-0.76454754,  0.64456735])"
            ]
          },
          "metadata": {},
          "execution_count": 116
        }
      ]
    },
    {
      "cell_type": "code",
      "metadata": {
        "id": "roMyJaHhilwN"
      },
      "source": [
        "# Take the second lambda or eigenvalue\n",
        "lambda_2 = lambdas[1]"
      ],
      "execution_count": null,
      "outputs": []
    },
    {
      "cell_type": "code",
      "metadata": {
        "colab": {
          "base_uri": "https://localhost:8080/"
        },
        "id": "KJCYVLeGj7Pq",
        "outputId": "2101207f-1979-4634-e4d3-9bad43f4d8e8"
      },
      "source": [
        "lambda_2"
      ],
      "execution_count": null,
      "outputs": [
        {
          "output_type": "execute_result",
          "data": {
            "text/plain": [
              "-4.372281323269014"
            ]
          },
          "metadata": {},
          "execution_count": 118
        }
      ]
    },
    {
      "cell_type": "code",
      "metadata": {
        "id": "-xaxU79FiuZ2"
      },
      "source": [
        "# Let's calculate A * v_2\n",
        "Av_2 = np.dot(A, v_2)"
      ],
      "execution_count": null,
      "outputs": []
    },
    {
      "cell_type": "code",
      "metadata": {
        "colab": {
          "base_uri": "https://localhost:8080/"
        },
        "id": "If4llOYRi1Wd",
        "outputId": "8cd10a36-3046-4182-8aea-bde7f9869182"
      },
      "source": [
        "Av_2"
      ],
      "execution_count": null,
      "outputs": [
        {
          "output_type": "execute_result",
          "data": {
            "text/plain": [
              "array([ 3.34281692, -2.81822977])"
            ]
          },
          "metadata": {},
          "execution_count": 120
        }
      ]
    },
    {
      "cell_type": "code",
      "metadata": {
        "id": "UManvV2Qi2Lw"
      },
      "source": [
        "# Let's calculate lambda_2 * v_2\n",
        "lambda_2v_2 = np.dot(lambda_2, v_2)"
      ],
      "execution_count": null,
      "outputs": []
    },
    {
      "cell_type": "code",
      "metadata": {
        "colab": {
          "base_uri": "https://localhost:8080/"
        },
        "id": "eudGPOi5i8Up",
        "outputId": "d2009179-3668-44d1-df32-a5611fcd7371"
      },
      "source": [
        "lambda_2v_2"
      ],
      "execution_count": null,
      "outputs": [
        {
          "output_type": "execute_result",
          "data": {
            "text/plain": [
              "array([ 3.34281692, -2.81822977])"
            ]
          },
          "metadata": {},
          "execution_count": 122
        }
      ]
    },
    {
      "cell_type": "markdown",
      "metadata": {
        "id": "KCH5WM7ajEoY"
      },
      "source": [
        "Let's plot the original vector (light blue) and the eigenvector (blue)"
      ]
    },
    {
      "cell_type": "code",
      "metadata": {
        "colab": {
          "base_uri": "https://localhost:8080/",
          "height": 286
        },
        "id": "-qBzr0g7i-T4",
        "outputId": "358a0be9-32ea-4082-c84b-370257ff720f"
      },
      "source": [
        "# The eigenvector is 4.37 times bigger than the orgininal vector and in the opposite direction of the original vector\n",
        "plot_vectors([Av_1, v_1, Av_2, v_2], ['blue', 'lightblue', 'green', 'lightgreen'])\n",
        "plt.xlim(-1, 4)\n",
        "plt.ylim(-4, 2)"
      ],
      "execution_count": null,
      "outputs": [
        {
          "output_type": "execute_result",
          "data": {
            "text/plain": [
              "(-4.0, 2.0)"
            ]
          },
          "metadata": {},
          "execution_count": 123
        },
        {
          "output_type": "display_data",
          "data": {
            "image/png": "[encoded data removed]",
            "text/plain": [
              "<Figure size 432x288 with 1 Axes>"
            ]
          },
          "metadata": {
            "needs_background": "light"
          }
        }
      ]
    },
    {
      "cell_type": "markdown",
      "metadata": {
        "id": "_K19QimiCzzK"
      },
      "source": [
        "### 2x2 Matrix Determinants\n",
        "* They map **square** matrices to a single scalar value\n",
        "* The determinant represents the factor by which the area of a matrix has been scaled from the basis vectors\n",
        "* They help us determine whether a matrix can be inverted\n",
        "* It is denoted as $det(X)$\n",
        "* If $det(X)$ = 0 then the matrix **can not** be inverted\n",
        "* For a 2x2 matrix\n",
        "$$ \n",
        "X = \n",
        "\\begin{bmatrix}\n",
        "    A & B \\\\\n",
        "    C & D\n",
        "\\end{bmatrix}\n",
        "$$\n",
        "the determinant $det(X)$ is $AD - BC$\n",
        "\n",
        "Resources:\n",
        "1. [Visual Definition of Matrix Determinants](https://www.youtube.com/watch?v=Ip3X9LOh2dk&list=PLZHQObOWTQDPD3MizzM2xVFitgF8hE_ab&index=6)"
      ]
    },
    {
      "cell_type": "code",
      "metadata": {
        "id": "8dEUCXtpC6YC",
        "colab": {
          "base_uri": "https://localhost:8080/"
        },
        "outputId": "79870fd3-e671-4a55-afc8-81380ebd7bf6"
      },
      "source": [
        "# Create a square matrix\n",
        "X = np.array([[4, 2], [-5, -3]])\n",
        "X"
      ],
      "execution_count": null,
      "outputs": [
        {
          "output_type": "execute_result",
          "data": {
            "text/plain": [
              "array([[ 4,  2],\n",
              "       [-5, -3]])"
            ]
          },
          "metadata": {},
          "execution_count": 124
        }
      ]
    },
    {
      "cell_type": "code",
      "metadata": {
        "colab": {
          "base_uri": "https://localhost:8080/"
        },
        "id": "en-RnJuJnz4w",
        "outputId": "28d760ad-20a2-4378-ad8e-534b5fe61a21"
      },
      "source": [
        "# Find its determinant\n",
        "np.linalg.det(X)"
      ],
      "execution_count": null,
      "outputs": [
        {
          "output_type": "execute_result",
          "data": {
            "text/plain": [
              "-2.0000000000000013"
            ]
          },
          "metadata": {},
          "execution_count": 125
        }
      ]
    },
    {
      "cell_type": "code",
      "metadata": {
        "colab": {
          "base_uri": "https://localhost:8080/"
        },
        "id": "taIxHeEvolA0",
        "outputId": "1d7c1b35-09da-4628-d9b1-1faee40308b7"
      },
      "source": [
        "# Let's try another example\n",
        "N = np.array([[-4, 1], [-8, 2]])\n",
        "N"
      ],
      "execution_count": null,
      "outputs": [
        {
          "output_type": "execute_result",
          "data": {
            "text/plain": [
              "array([[-4,  1],\n",
              "       [-8,  2]])"
            ]
          },
          "metadata": {},
          "execution_count": 126
        }
      ]
    },
    {
      "cell_type": "code",
      "metadata": {
        "colab": {
          "base_uri": "https://localhost:8080/"
        },
        "id": "Jyiv7tq3pKuH",
        "outputId": "60091310-e1f0-448c-9a5c-39ec2e61222f"
      },
      "source": [
        "# Find its determinant\n",
        "np.linalg.det(N)"
      ],
      "execution_count": null,
      "outputs": [
        {
          "output_type": "execute_result",
          "data": {
            "text/plain": [
              "0.0"
            ]
          },
          "metadata": {},
          "execution_count": 127
        }
      ]
    },
    {
      "cell_type": "markdown",
      "metadata": {
        "id": "_I9yTVCypTuW"
      },
      "source": [
        "This is not an inversable matrix since its determinant is zero. The columns of the matrix are not independent of each other."
      ]
    },
    {
      "cell_type": "markdown",
      "metadata": {
        "id": "lO5kwYsR3Njl"
      },
      "source": [
        "### Larger Matrix Determinants\n",
        "* Use Numpy's $det(X)$ function"
      ]
    },
    {
      "cell_type": "code",
      "metadata": {
        "id": "ssdXXbnVjhJ6",
        "colab": {
          "base_uri": "https://localhost:8080/"
        },
        "outputId": "0bee80c0-c492-44eb-86ee-b73a50802427"
      },
      "source": [
        "X = np.array([[1, 2, 4], [2, -1, 3], [0, 5, 1]])\n",
        "X"
      ],
      "execution_count": null,
      "outputs": [
        {
          "output_type": "execute_result",
          "data": {
            "text/plain": [
              "array([[ 1,  2,  4],\n",
              "       [ 2, -1,  3],\n",
              "       [ 0,  5,  1]])"
            ]
          },
          "metadata": {},
          "execution_count": 128
        }
      ]
    },
    {
      "cell_type": "code",
      "metadata": {
        "id": "pwAfh4pmjlPM",
        "colab": {
          "base_uri": "https://localhost:8080/"
        },
        "outputId": "f0ca3171-cd2e-48d4-df7a-59517d86b231"
      },
      "source": [
        "# Calculate the matrix determinant. It is an inversable matrix.\n",
        "np.linalg.det(X)"
      ],
      "execution_count": null,
      "outputs": [
        {
          "output_type": "execute_result",
          "data": {
            "text/plain": [
              "19.999999999999996"
            ]
          },
          "metadata": {},
          "execution_count": 129
        }
      ]
    },
    {
      "cell_type": "markdown",
      "metadata": {
        "id": "ZxqizIN65gem"
      },
      "source": [
        "### Determinants and Eigenvalues\n",
        "* $det(X)$ = **product** of all Eigenvalues of X"
      ]
    },
    {
      "cell_type": "code",
      "metadata": {
        "id": "eeJurLVMj8sc",
        "colab": {
          "base_uri": "https://localhost:8080/"
        },
        "outputId": "01a21e99-0078-40bb-8913-7f6ace4069b1"
      },
      "source": [
        "# Let's use this matrix\n",
        "X"
      ],
      "execution_count": null,
      "outputs": [
        {
          "output_type": "execute_result",
          "data": {
            "text/plain": [
              "array([[ 1,  2,  4],\n",
              "       [ 2, -1,  3],\n",
              "       [ 0,  5,  1]])"
            ]
          },
          "metadata": {},
          "execution_count": 130
        }
      ]
    },
    {
      "cell_type": "code",
      "metadata": {
        "id": "zzvkN0j56YDw",
        "colab": {
          "base_uri": "https://localhost:8080/"
        },
        "outputId": "950efd29-8ce6-4091-d7ea-93669372b8f6"
      },
      "source": [
        "# Let's find all its Eigenvalues\n",
        "lambdas, V = np.linalg.eig(X)\n",
        "lambdas"
      ],
      "execution_count": null,
      "outputs": [
        {
          "output_type": "execute_result",
          "data": {
            "text/plain": [
              "array([-3.25599251, -1.13863631,  5.39462882])"
            ]
          },
          "metadata": {},
          "execution_count": 131
        }
      ]
    },
    {
      "cell_type": "code",
      "metadata": {
        "id": "5iTEt4S06ilU",
        "colab": {
          "base_uri": "https://localhost:8080/"
        },
        "outputId": "c17a43d2-c91d-4462-91f6-21fee80e5701"
      },
      "source": [
        "# Let's multiply all lambdas\n",
        "lambdas[0] * lambdas[1] * lambdas[2]"
      ],
      "execution_count": null,
      "outputs": [
        {
          "output_type": "execute_result",
          "data": {
            "text/plain": [
              "19.99999999999999"
            ]
          },
          "metadata": {},
          "execution_count": 132
        }
      ]
    },
    {
      "cell_type": "code",
      "metadata": {
        "id": "jfeOJhih7aJq",
        "colab": {
          "base_uri": "https://localhost:8080/"
        },
        "outputId": "6fe0310c-2cd3-49b9-ec4e-adc71057d279"
      },
      "source": [
        "# We can also use the product method\n",
        "np.product(lambdas)"
      ],
      "execution_count": null,
      "outputs": [
        {
          "output_type": "execute_result",
          "data": {
            "text/plain": [
              "19.99999999999999"
            ]
          },
          "metadata": {},
          "execution_count": 133
        }
      ]
    },
    {
      "cell_type": "code",
      "metadata": {
        "id": "dfpslUyl68HN",
        "colab": {
          "base_uri": "https://localhost:8080/"
        },
        "outputId": "9dd580ff-2f7e-4026-bc47-87e01b28f1df"
      },
      "source": [
        "# Let's calculate its determinant\n",
        "np.linalg.det(X)"
      ],
      "execution_count": null,
      "outputs": [
        {
          "output_type": "execute_result",
          "data": {
            "text/plain": [
              "19.999999999999996"
            ]
          },
          "metadata": {},
          "execution_count": 134
        }
      ]
    },
    {
      "cell_type": "markdown",
      "metadata": {
        "id": "kP-u176t7IZW"
      },
      "source": [
        "The matrix determinant is the product of all its Eigenvalues."
      ]
    },
    {
      "cell_type": "code",
      "metadata": {
        "id": "2Slwyi3v7GAp"
      },
      "source": [
        ""
      ],
      "execution_count": null,
      "outputs": []
    }
  ]
}